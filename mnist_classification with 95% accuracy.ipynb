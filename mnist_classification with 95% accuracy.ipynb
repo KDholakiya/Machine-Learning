{
  "nbformat": 4,
  "nbformat_minor": 0,
  "metadata": {
    "colab": {
      "name": "mnist classification.ipynb",
      "version": "0.3.2",
      "provenance": [],
      "collapsed_sections": [],
      "include_colab_link": true
    },
    "kernelspec": {
      "name": "python3",
      "display_name": "Python 3"
    }
  },
  "cells": [
    {
      "cell_type": "markdown",
      "metadata": {
        "id": "view-in-github",
        "colab_type": "text"
      },
      "source": [
        "<a href=\"https://colab.research.google.com/github/keval47/Machine-Learning/blob/master/mnist_classification%20with%2095%25%20accuracy.ipynb\" target=\"_parent\"><img src=\"https://colab.research.google.com/assets/colab-badge.svg\" alt=\"Open In Colab\"/></a>"
      ]
    },
    {
      "cell_type": "code",
      "metadata": {
        "id": "oEosLVPeUBoZ",
        "colab_type": "code",
        "colab": {}
      },
      "source": [
        "import numpy as np\n",
        "import pandas as pd\n",
        "import matplotlib.pyplot as plt\n",
        "import seaborn as sb\n",
        "from sklearn import datasets\n",
        "from sklearn import metrics\n",
        "from sklearn import preprocessing\n",
        "from sklearn.model_selection import train_test_split"
      ],
      "execution_count": 0,
      "outputs": []
    },
    {
      "cell_type": "code",
      "metadata": {
        "id": "V18iO7Gf1m3-",
        "colab_type": "code",
        "colab": {}
      },
      "source": [
        "data = datasets.load_digits()"
      ],
      "execution_count": 0,
      "outputs": []
    },
    {
      "cell_type": "code",
      "metadata": {
        "id": "hDZMKDL61sei",
        "colab_type": "code",
        "colab": {}
      },
      "source": [
        "df = pd.DataFrame(data.data)\n",
        "df['target'] = data.target"
      ],
      "execution_count": 0,
      "outputs": []
    },
    {
      "cell_type": "code",
      "metadata": {
        "id": "Xns5z3hO13u8",
        "colab_type": "code",
        "colab": {}
      },
      "source": [
        "X = np.array(df.drop(['target'],axis=1))\n",
        "Y = np.array(df.target)"
      ],
      "execution_count": 0,
      "outputs": []
    },
    {
      "cell_type": "code",
      "metadata": {
        "id": "9takgp2S2N_c",
        "colab_type": "code",
        "colab": {}
      },
      "source": [
        "X_train,X_test,y_train,y_test = train_test_split(X,Y,test_size=0.10)"
      ],
      "execution_count": 0,
      "outputs": []
    },
    {
      "cell_type": "code",
      "metadata": {
        "id": "-dCiMVfY3l7l",
        "colab_type": "code",
        "colab": {}
      },
      "source": [
        "class LogisticRegression:\n",
        "  def __init__(self,epochs=500,lr=0.9):\n",
        "    self.epochs = epochs\n",
        "    self.lr = lr\n",
        "    self.scaler = preprocessing.StandardScaler()\n",
        "    \n",
        "  def fit(self,x,y):\n",
        "    cats = np.unique(y)\n",
        "    self.scaler.fit(x)\n",
        "    x = self.__normalize(x)\n",
        "    x = self.__add_intercept(x)\n",
        "    self.theta = np.zeros((len(cats),x.shape[1]))\n",
        "    return self.__gradient_decent(x,y,self.theta,self.lr,self.epochs,cats)\n",
        "  \n",
        "  def __add_intercept(self,x):\n",
        "    ones = np.ones((x.shape[0],1),dtype=int)\n",
        "    return np.concatenate((ones,x),axis=1)\n",
        "  \n",
        "  def __gradient_decent(self,x,y,theta,alpha,epochs,cats):\n",
        "    m = x.shape[0]\n",
        "    n = x.shape[1]\n",
        "    err = []\n",
        "    for i in range(len(cats)):\n",
        "      tempErr = np.zeros(epochs)\n",
        "      newY = np.array(y,copy=True)\n",
        "      newY[y == i] = 1\n",
        "      newY[y != i] = 0\n",
        "      for j in range(epochs):\n",
        "        theta[i] = self.__gradient_step(x,newY,theta[i],alpha,m)\n",
        "        tempErr[j] = self.__cost_function(x,newY,theta[i])\n",
        "      err.append(tempErr)\n",
        "    return err,theta\n",
        "  \n",
        "  def __gradient_step(self,x,y,w,lr,m):\n",
        "    h = self.__sigmoid(np.dot(x,w))\n",
        "    pred = h - y\n",
        "    deriv = np.sum((pred[:,None]*x),axis=0)\n",
        "    w -= (lr*(1/m))*deriv\n",
        "    return w\n",
        "  \n",
        "  def __sigmoid(self,z):\n",
        "    return 1/(1+np.exp(-z))\n",
        "  \n",
        "  def __cost_function(self,x,y,w):\n",
        "    h = self.__sigmoid(np.dot(x,w))\n",
        "    h = np.sum( (y*np.log(h)) + ((1-y)*np.log(1-h)) )\n",
        "    return -(h / len(y))\n",
        "  \n",
        "  def __normalize(self,x):\n",
        "    return self.scaler.transform(x)\n",
        "  \n",
        "  def predict(self,x):\n",
        "    w = self.theta\n",
        "    predBit = np.zeros(len(x),dtype=int)\n",
        "    predPr = np.zeros((len(x),len(w)))\n",
        "    for i in range(len(x)):\n",
        "      bit = x[i]\n",
        "      bit = self.scaler.transform([bit])\n",
        "      bit = np.insert(bit,0,1)\n",
        "      for j in range(len(w)):\n",
        "        p = self.__sigmoid(np.sum(bit*w[j]))\n",
        "        predPr[i][j] = round(p, 2)*100\n",
        "      predBit[i] = predPr[i].argmax()\n",
        "    return predBit,predPr"
      ],
      "execution_count": 0,
      "outputs": []
    },
    {
      "cell_type": "code",
      "metadata": {
        "id": "qI8Z-PPuEh-I",
        "colab_type": "code",
        "colab": {}
      },
      "source": [
        "lr = LogisticRegression()"
      ],
      "execution_count": 0,
      "outputs": []
    },
    {
      "cell_type": "code",
      "metadata": {
        "id": "PVKI6r8HiWsl",
        "colab_type": "code",
        "colab": {}
      },
      "source": [
        "err,theta = lr.fit(X_train,y_train)"
      ],
      "execution_count": 0,
      "outputs": []
    },
    {
      "cell_type": "code",
      "metadata": {
        "id": "wapQObiQ3wvd",
        "colab_type": "code",
        "colab": {}
      },
      "source": [
        "predBit , predPr = lr.predict(X_test)"
      ],
      "execution_count": 0,
      "outputs": []
    },
    {
      "cell_type": "code",
      "metadata": {
        "id": "c9_V1LmW5CPF",
        "colab_type": "code",
        "colab": {
          "base_uri": "https://localhost:8080/",
          "height": 35
        },
        "outputId": "a5bece63-942b-415c-d122-8293e1919504"
      },
      "source": [
        "acc = metrics.accuracy_score(y_test,predBit)\n",
        "print(acc)"
      ],
      "execution_count": 309,
      "outputs": [
        {
          "output_type": "stream",
          "text": [
            "0.95\n"
          ],
          "name": "stdout"
        }
      ]
    },
    {
      "cell_type": "code",
      "metadata": {
        "id": "dQRWXOUr6UF1",
        "colab_type": "code",
        "colab": {
          "base_uri": "https://localhost:8080/",
          "height": 35
        },
        "outputId": "7c7cac8b-8740-4ddb-c3f3-63c109cde53b"
      },
      "source": [
        "lr.predict([X_test[56]])"
      ],
      "execution_count": 311,
      "outputs": [
        {
          "output_type": "execute_result",
          "data": {
            "text/plain": [
              "(array([9]), array([[ 0.,  0.,  0.,  5.,  0.,  0.,  1.,  0., 13., 20.]]))"
            ]
          },
          "metadata": {
            "tags": []
          },
          "execution_count": 311
        }
      ]
    },
    {
      "cell_type": "code",
      "metadata": {
        "id": "AOVKxw3p7SLR",
        "colab_type": "code",
        "colab": {
          "base_uri": "https://localhost:8080/",
          "height": 35
        },
        "outputId": "49545c3f-749f-45e7-d088-ab3a1ea6db67"
      },
      "source": [
        "y_test[56]"
      ],
      "execution_count": 313,
      "outputs": [
        {
          "output_type": "execute_result",
          "data": {
            "text/plain": [
              "8"
            ]
          },
          "metadata": {
            "tags": []
          },
          "execution_count": 313
        }
      ]
    },
    {
      "cell_type": "code",
      "metadata": {
        "id": "BSWFwIfo7kJz",
        "colab_type": "code",
        "colab": {
          "base_uri": "https://localhost:8080/",
          "height": 287
        },
        "outputId": "b9ccec87-eba7-45a1-9978-af0305ede28a"
      },
      "source": [
        "sb.heatmap(metrics.confusion_matrix(y_test,predBit),annot=True)"
      ],
      "execution_count": 315,
      "outputs": [
        {
          "output_type": "execute_result",
          "data": {
            "text/plain": [
              "<matplotlib.axes._subplots.AxesSubplot at 0x7ff07463a208>"
            ]
          },
          "metadata": {
            "tags": []
          },
          "execution_count": 315
        },
        {
          "output_type": "display_data",
          "data": {
            "image/png": "[encoded data removed]",
            "text/plain": [
              "<Figure size 432x288 with 2 Axes>"
            ]
          },
          "metadata": {
            "tags": []
          }
        }
      ]
    },
    {
      "cell_type": "code",
      "metadata": {
        "id": "P0lX2C-q7vrn",
        "colab_type": "code",
        "colab": {}
      },
      "source": [
        ""
      ],
      "execution_count": 0,
      "outputs": []
    }
  ]
}