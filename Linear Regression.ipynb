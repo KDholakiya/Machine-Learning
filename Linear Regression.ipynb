{
  "nbformat": 4,
  "nbformat_minor": 0,
  "metadata": {
    "colab": {
      "name": "bostonHouse_machineLearning.ipynb",
      "version": "0.3.2",
      "provenance": [],
      "collapsed_sections": [],
      "include_colab_link": true
    },
    "kernelspec": {
      "display_name": "Python 3",
      "language": "python",
      "name": "python3"
    }
  },
  "cells": [
    {
      "cell_type": "markdown",
      "metadata": {
        "id": "view-in-github",
        "colab_type": "text"
      },
      "source": [
        "<a href=\"https://colab.research.google.com/github/keval47/Machine-Learning/blob/master/Linear%20Regression.ipynb\" target=\"_parent\"><img src=\"https://colab.research.google.com/assets/colab-badge.svg\" alt=\"Open In Colab\"/></a>"
      ]
    },
    {
      "cell_type": "code",
      "metadata": {
        "id": "CdjpAktVf1Oh",
        "colab_type": "code",
        "colab": {}
      },
      "source": [
        "import numpy as np\n",
        "import seaborn as sb\n",
        "import matplotlib.pyplot as plt\n",
        "import pandas as pd\n",
        "from sklearn import datasets\n",
        "from sklearn import linear_model"
      ],
      "execution_count": 0,
      "outputs": []
    },
    {
      "cell_type": "code",
      "metadata": {
        "id": "VjQU1bbFf1O0",
        "colab_type": "code",
        "colab": {}
      },
      "source": [
        "boston = datasets.lod_boston"
      ],
      "execution_count": 0,
      "outputs": []
    },
    {
      "cell_type": "code",
      "metadata": {
        "scrolled": true,
        "id": "tgmFmnw9f1PI",
        "colab_type": "code",
        "outputId": "a7b951cc-cbc6-4823-b9eb-470717384a19",
        "colab": {
          "base_uri": "https://localhost:8080/",
          "height": 112
        }
      },
      "source": [
        "df = pd.DataFrame(boston.data,columns=boston.feature_names)\n",
        "df['MEDV'] = boston.target\n",
        "\n",
        "Y = np.array(df['MEDV'])\n",
        "X = np.array(df.drop('MEDV',axis=1))\n",
        "# normalize X\n",
        "\n",
        "mean = X.mean()\n",
        "std = X.std()\n",
        "X = (X - mean) / std \n",
        "\n",
        "# add x0 ones\n",
        "ones = np.ones((len(X),1),dtype=int)\n",
        "X = np.concatenate((ones,X),axis=1)\n",
        "df.head(2)"
      ],
      "execution_count": 0,
      "outputs": [
        {
          "output_type": "execute_result",
          "data": {
            "text/html": [
              "<div>\n",
              "<style scoped>\n",
              "    .dataframe tbody tr th:only-of-type {\n",
              "        vertical-align: middle;\n",
              "    }\n",
              "\n",
              "    .dataframe tbody tr th {\n",
              "        vertical-align: top;\n",
              "    }\n",
              "\n",
              "    .dataframe thead th {\n",
              "        text-align: right;\n",
              "    }\n",
              "</style>\n",
              "<table border=\"1\" class=\"dataframe\">\n",
              "  <thead>\n",
              "    <tr style=\"text-align: right;\">\n",
              "      <th></th>\n",
              "      <th>CRIM</th>\n",
              "      <th>ZN</th>\n",
              "      <th>INDUS</th>\n",
              "      <th>CHAS</th>\n",
              "      <th>NOX</th>\n",
              "      <th>RM</th>\n",
              "      <th>AGE</th>\n",
              "      <th>DIS</th>\n",
              "      <th>RAD</th>\n",
              "      <th>TAX</th>\n",
              "      <th>PTRATIO</th>\n",
              "      <th>B</th>\n",
              "      <th>LSTAT</th>\n",
              "      <th>MEDV</th>\n",
              "    </tr>\n",
              "  </thead>\n",
              "  <tbody>\n",
              "    <tr>\n",
              "      <th>0</th>\n",
              "      <td>0.00632</td>\n",
              "      <td>18.0</td>\n",
              "      <td>2.31</td>\n",
              "      <td>0.0</td>\n",
              "      <td>0.538</td>\n",
              "      <td>6.575</td>\n",
              "      <td>65.2</td>\n",
              "      <td>4.0900</td>\n",
              "      <td>1.0</td>\n",
              "      <td>296.0</td>\n",
              "      <td>15.3</td>\n",
              "      <td>396.9</td>\n",
              "      <td>4.98</td>\n",
              "      <td>24.0</td>\n",
              "    </tr>\n",
              "    <tr>\n",
              "      <th>1</th>\n",
              "      <td>0.02731</td>\n",
              "      <td>0.0</td>\n",
              "      <td>7.07</td>\n",
              "      <td>0.0</td>\n",
              "      <td>0.469</td>\n",
              "      <td>6.421</td>\n",
              "      <td>78.9</td>\n",
              "      <td>4.9671</td>\n",
              "      <td>2.0</td>\n",
              "      <td>242.0</td>\n",
              "      <td>17.8</td>\n",
              "      <td>396.9</td>\n",
              "      <td>9.14</td>\n",
              "      <td>21.6</td>\n",
              "    </tr>\n",
              "  </tbody>\n",
              "</table>\n",
              "</div>"
            ],
            "text/plain": [
              "      CRIM    ZN  INDUS  CHAS    NOX  ...    TAX  PTRATIO      B  LSTAT  MEDV\n",
              "0  0.00632  18.0   2.31   0.0  0.538  ...  296.0     15.3  396.9   4.98  24.0\n",
              "1  0.02731   0.0   7.07   0.0  0.469  ...  242.0     17.8  396.9   9.14  21.6\n",
              "\n",
              "[2 rows x 14 columns]"
            ]
          },
          "metadata": {
            "tags": []
          },
          "execution_count": 16
        }
      ]
    },
    {
      "cell_type": "code",
      "metadata": {
        "id": "CBdThqP5DaM0",
        "colab_type": "code",
        "colab": {}
      },
      "source": [
        ""
      ],
      "execution_count": 0,
      "outputs": []
    },
    {
      "cell_type": "code",
      "metadata": {
        "id": "Gu0TqW43f1PZ",
        "colab_type": "code",
        "colab": {}
      },
      "source": [
        "def calculate_cost(x,y,w):\n",
        "#     return round( ( (np.sum( (y - np.sum((w*x),axis=1))**2 ) ) / (2*len(y)) ),3 )\n",
        "    wx = np.dot(w,x)\n",
        "    deriv = np.sum(( y-wx ) **2)\n",
        "    err = deriv / (2*len(y))\n",
        "    return err"
      ],
      "execution_count": 0,
      "outputs": []
    },
    {
      "cell_type": "code",
      "metadata": {
        "id": "SUF7VOa2f1Pi",
        "colab_type": "code",
        "colab": {}
      },
      "source": [
        "def gradient_decent(x,y,alpha,theta,iters):\n",
        "    err=list()\n",
        "    for i in range(iters):\n",
        "        theta = gradient_step(x,y,alpha,theta)\n",
        "        err.append(calculate_cost(x,y,theta))\n",
        "    return theta,err"
      ],
      "execution_count": 0,
      "outputs": []
    },
    {
      "cell_type": "code",
      "metadata": {
        "id": "pBo-vOinf1Pp",
        "colab_type": "code",
        "colab": {}
      },
      "source": [
        "def gradient_step(x,y,alpha,w):\n",
        "    m = len(y)\n",
        "    hx  = np.dot(w,x)\n",
        "    pred = hx - y\n",
        "    deriv = np.sum((pred[:,None]*x),axis=0 )\n",
        "    w = w - ( (alpha * (1/m)) * deriv)\n",
        "    return w"
      ],
      "execution_count": 0,
      "outputs": []
    },
    {
      "cell_type": "code",
      "metadata": {
        "id": "meR06Lwof1Py",
        "colab_type": "code",
        "outputId": "949e3624-bed2-49e7-fe04-4edd67e99ceb",
        "colab": {
          "base_uri": "https://localhost:8080/",
          "height": 324
        }
      },
      "source": [
        "alpha = 0.01\n",
        "theta = np.zeros(X.shape[1])\n",
        "iters = 10000\n",
        "theta,err = gradient_decent(X,Y,alpha,theta,iters)\n",
        "plt.plot(err)\n",
        "print(theta)"
      ],
      "execution_count": 0,
      "outputs": [
        {
          "output_type": "stream",
          "text": [
            "[  6.55723615  -6.59191006   8.44323717  -6.06986821  -2.89662897\n",
            "  -3.16443115  -0.65149425  -3.01867132  -4.36933437  -0.36706735\n",
            "  -1.89338106  -5.93708929   1.62911473 -19.29925881]\n"
          ],
          "name": "stdout"
        },
        {
          "output_type": "display_data",
          "data": {
            "image/png": "[encoded data removed]",
            "text/plain": [
              "<Figure size 432x288 with 1 Axes>"
            ]
          },
          "metadata": {
            "tags": []
          }
        }
      ]
    },
    {
      "cell_type": "code",
      "metadata": {
        "id": "azOer7lmf1P9",
        "colab_type": "code",
        "colab": {}
      },
      "source": [
        "def predict(x,weights,mean,std):\n",
        "    x = (x-mean)/std\n",
        "    x = np.insert(x,0,1)\n",
        "    return np.sum(x*weights)"
      ],
      "execution_count": 0,
      "outputs": []
    },
    {
      "cell_type": "code",
      "metadata": {
        "id": "a7Bx_rXUf1QL",
        "colab_type": "code",
        "outputId": "1de8ec4b-ff5c-4dbd-aa89-7f4d82c01e82",
        "colab": {
          "base_uri": "https://localhost:8080/",
          "height": 35
        }
      },
      "source": [
        "pr = 0.00632,18,2.31,0,0.538,6.575,65.2,4.0900,1,296,15.3,396.90,4.98\n",
        "#pr = 0.958,0.1,56.69,0.0,04.585,6.027,79.7,3.4982,10.0,391.0,19.2,396.90,14.33\n",
        "#pr = 0.02731,0.0,7.07,0.0,0.469,6.421,78.9,4.9671,2.0,242.0,17.8,396.90,9.14\n",
        "# pr = [2500,4,5]\n",
        "predict(pr,theta,mean,std)"
      ],
      "execution_count": 0,
      "outputs": [
        {
          "output_type": "execute_result",
          "data": {
            "text/plain": [
              "26.621399195857883"
            ]
          },
          "metadata": {
            "tags": []
          },
          "execution_count": 10
        }
      ]
    }
  ]
}