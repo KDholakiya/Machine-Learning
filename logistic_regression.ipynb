{
  "nbformat": 4,
  "nbformat_minor": 0,
  "metadata": {
    "colab": {
      "name": "insurance logistic regression.ipynb",
      "version": "0.3.2",
      "provenance": [],
      "collapsed_sections": [],
      "include_colab_link": true
    },
    "kernelspec": {
      "name": "python3",
      "display_name": "Python 3"
    }
  },
  "cells": [
    {
      "cell_type": "markdown",
      "metadata": {
        "id": "view-in-github",
        "colab_type": "text"
      },
      "source": [
        "<a href=\"https://colab.research.google.com/github/keval47/Machine-Learning/blob/master/logistic_regression.ipynb\" target=\"_parent\"><img src=\"https://colab.research.google.com/assets/colab-badge.svg\" alt=\"Open In Colab\"/></a>"
      ]
    },
    {
      "cell_type": "code",
      "metadata": {
        "id": "Ucwmk7oEBpu8",
        "colab_type": "code",
        "colab": {}
      },
      "source": [
        "import numpy as np\n",
        "import pandas as pd\n",
        "import matplotlib.pyplot as plt\n",
        "import seaborn as sb\n",
        "from sklearn.model_selection import train_test_split"
      ],
      "execution_count": 0,
      "outputs": []
    },
    {
      "cell_type": "code",
      "metadata": {
        "id": "XtXLehQwB2qD",
        "colab_type": "code",
        "outputId": "d3eca827-3f04-41c5-ce25-651358b18e0c",
        "colab": {
          "base_uri": "https://localhost:8080/",
          "height": 112
        }
      },
      "source": [
        "df = pd.read_csv('https://raw.githubusercontent.com/codebasics/py/master/ML/7_logistic_reg/insurance_data.csv')\n",
        "df.head(2)"
      ],
      "execution_count": 200,
      "outputs": [
        {
          "output_type": "execute_result",
          "data": {
            "text/html": [
              "<div>\n",
              "<style scoped>\n",
              "    .dataframe tbody tr th:only-of-type {\n",
              "        vertical-align: middle;\n",
              "    }\n",
              "\n",
              "    .dataframe tbody tr th {\n",
              "        vertical-align: top;\n",
              "    }\n",
              "\n",
              "    .dataframe thead th {\n",
              "        text-align: right;\n",
              "    }\n",
              "</style>\n",
              "<table border=\"1\" class=\"dataframe\">\n",
              "  <thead>\n",
              "    <tr style=\"text-align: right;\">\n",
              "      <th></th>\n",
              "      <th>age</th>\n",
              "      <th>bought_insurance</th>\n",
              "    </tr>\n",
              "  </thead>\n",
              "  <tbody>\n",
              "    <tr>\n",
              "      <th>0</th>\n",
              "      <td>22</td>\n",
              "      <td>0</td>\n",
              "    </tr>\n",
              "    <tr>\n",
              "      <th>1</th>\n",
              "      <td>25</td>\n",
              "      <td>0</td>\n",
              "    </tr>\n",
              "  </tbody>\n",
              "</table>\n",
              "</div>"
            ],
            "text/plain": [
              "   age  bought_insurance\n",
              "0   22                 0\n",
              "1   25                 0"
            ]
          },
          "metadata": {
            "tags": []
          },
          "execution_count": 200
        }
      ]
    },
    {
      "cell_type": "code",
      "metadata": {
        "id": "kFaKZMk_B8tU",
        "colab_type": "code",
        "colab": {}
      },
      "source": [
        "X = np.array(df.iloc[:,0])\n",
        "Y = np.array(df.iloc[:,1])\n",
        "mean = np.mean(X)\n",
        "std = np.std(X)\n",
        "# X =  ( (X-min(X))/(max(X)-min(X)) ) * ( (1-0)+0 )\n",
        "X = (X - mean) / std\n",
        "ones = np.ones((len(X),1),dtype=int)\n",
        "X = np.concatenate((ones,X[:,None]),axis=1)"
      ],
      "execution_count": 0,
      "outputs": []
    },
    {
      "cell_type": "code",
      "metadata": {
        "id": "4UV42TZzjU_N",
        "colab_type": "code",
        "colab": {}
      },
      "source": [
        "def cost_function(x,y,w):\n",
        "  h = np.dot(x,w)\n",
        "  h = sigmoid(h)\n",
        "  h = np.sum(( (y * np.log(h)) + ((1 - y) * np.log(1 - h)) ))\n",
        "  return -(h/len(y))"
      ],
      "execution_count": 0,
      "outputs": []
    },
    {
      "cell_type": "code",
      "metadata": {
        "id": "sZBfg6OofkOj",
        "colab_type": "code",
        "colab": {}
      },
      "source": [
        "def gradient_decent(x,y,theta,lr,iters):\n",
        "  err = list()\n",
        "  for i in range(iters):\n",
        "    theta = gradient_step(x,y,theta,lr)\n",
        "    err.append(cost_function(x,y,theta))\n",
        "  return theta,err"
      ],
      "execution_count": 0,
      "outputs": []
    },
    {
      "cell_type": "code",
      "metadata": {
        "id": "bRPZ6xLlhS_b",
        "colab_type": "code",
        "colab": {}
      },
      "source": [
        "def gradient_step(x,y,w,lr):\n",
        "  m = len(y)\n",
        "  pred = sigmoid(np.dot(x,w))\n",
        "  pred = pred - y\n",
        "  deriv = np.sum((pred[:,None]*x),axis=0)\n",
        "  w = w - ( (lr * (1/m)) * deriv)\n",
        "  return w"
      ],
      "execution_count": 0,
      "outputs": []
    },
    {
      "cell_type": "code",
      "metadata": {
        "id": "dwR4dXKtZTV4",
        "colab_type": "code",
        "colab": {}
      },
      "source": [
        "def sigmoid(z):\n",
        "    return 1 / (1 + np.exp(-z))"
      ],
      "execution_count": 0,
      "outputs": []
    },
    {
      "cell_type": "code",
      "metadata": {
        "id": "dqfszXlyd2vK",
        "colab_type": "code",
        "colab": {}
      },
      "source": [
        "#hyper parameters\n",
        "lr = 0.1\n",
        "iters = 400\n",
        "theta = np.zeros(X.shape[1])"
      ],
      "execution_count": 0,
      "outputs": []
    },
    {
      "cell_type": "code",
      "metadata": {
        "id": "WVeE-qf9HW3u",
        "colab_type": "code",
        "outputId": "817b7e3b-b3c1-49fe-d46d-e7b0ccccc716",
        "colab": {
          "base_uri": "https://localhost:8080/",
          "height": 35
        }
      },
      "source": [
        "theta,err = gradient_decent(X,Y,theta,lr,iters)\n",
        "min(err)"
      ],
      "execution_count": 241,
      "outputs": [
        {
          "output_type": "execute_result",
          "data": {
            "text/plain": [
              "0.37795836103703284"
            ]
          },
          "metadata": {
            "tags": []
          },
          "execution_count": 241
        }
      ]
    },
    {
      "cell_type": "code",
      "metadata": {
        "id": "u21DZnBkNjLX",
        "colab_type": "code",
        "colab": {
          "base_uri": "https://localhost:8080/",
          "height": 287
        },
        "outputId": "eec39586-4833-4c20-a431-30a649b2b30c"
      },
      "source": [
        "plt.plot(err)"
      ],
      "execution_count": 242,
      "outputs": [
        {
          "output_type": "execute_result",
          "data": {
            "text/plain": [
              "[<matplotlib.lines.Line2D at 0x7fab705b2d30>]"
            ]
          },
          "metadata": {
            "tags": []
          },
          "execution_count": 242
        },
        {
          "output_type": "display_data",
          "data": {
            "image/png": "[encoded data removed]",
            "text/plain": [
              "<Figure size 432x288 with 1 Axes>"
            ]
          },
          "metadata": {
            "tags": []
          }
        }
      ]
    },
    {
      "cell_type": "code",
      "metadata": {
        "id": "9RHRFXTborbE",
        "colab_type": "code",
        "colab": {}
      },
      "source": [
        "def predict(x,theta,mean,std):\n",
        "#   val =  ( (val-min(val))/(max(val)-min(val)) ) * ( (1-0)+0 )\n",
        "  ret = list()\n",
        "  for i in range(len(x)):\n",
        "    bit = x[i]\n",
        "    bit = np.array((bit - mean) / std)\n",
        "    bit = np.insert(bit,0,1)\n",
        "    pred = sigmoid(np.sum(bit*theta))\n",
        "    if(pred >= 0.5):\n",
        "      ret.append(1)\n",
        "    else:\n",
        "      ret.append(0)\n",
        "  return ret"
      ],
      "execution_count": 0,
      "outputs": []
    },
    {
      "cell_type": "code",
      "metadata": {
        "id": "Tak-fGnT6Nhw",
        "colab_type": "code",
        "colab": {}
      },
      "source": [
        "def predict_prob(x,theta,mean,std):\n",
        "#   val =  ( (val-min(val))/(max(val)-min(val)) ) * ( (1-0)+0 )\n",
        "  ret = list()\n",
        "  for i in range(len(x)):\n",
        "    bit = x[i]\n",
        "    bit = np.array((bit - mean) / std)\n",
        "    bit = np.insert(bit,0,1)\n",
        "    pred = sigmoid(np.sum(bit*theta))\n",
        "    ret.append(str(int(round(pred, 2)*100))+'%')\n",
        "  return ret"
      ],
      "execution_count": 0,
      "outputs": []
    },
    {
      "cell_type": "code",
      "metadata": {
        "id": "AyXdM0BYLuko",
        "colab_type": "code",
        "colab": {}
      },
      "source": [
        "test = predict(df['age'],theta,mean,std)\n",
        "test"
      ],
      "execution_count": 0,
      "outputs": []
    },
    {
      "cell_type": "code",
      "metadata": {
        "id": "b6PR0nSfGQ1R",
        "colab_type": "code",
        "colab": {}
      },
      "source": [
        ""
      ],
      "execution_count": 0,
      "outputs": []
    }
  ]
}