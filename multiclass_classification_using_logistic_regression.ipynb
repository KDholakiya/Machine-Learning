{
  "nbformat": 4,
  "nbformat_minor": 0,
  "metadata": {
    "colab": {
      "name": "multiclass classification using logistic regression.ipynb",
      "version": "0.3.2",
      "provenance": [],
      "include_colab_link": true
    },
    "kernelspec": {
      "name": "python3",
      "display_name": "Python 3"
    }
  },
  "cells": [
    {
      "cell_type": "markdown",
      "metadata": {
        "id": "view-in-github",
        "colab_type": "text"
      },
      "source": [
        "<a href=\"https://colab.research.google.com/github/keval47/Machine-Learning/blob/master/multiclass_classification_using_logistic_regression.ipynb\" target=\"_parent\"><img src=\"https://colab.research.google.com/assets/colab-badge.svg\" alt=\"Open In Colab\"/></a>"
      ]
    },
    {
      "cell_type": "code",
      "metadata": {
        "id": "wG7_CdoqAg72",
        "colab_type": "code",
        "colab": {}
      },
      "source": [
        "import numpy as np\n",
        "import pandas as pd\n",
        "import matplotlib.pyplot as plt\n",
        "import seaborn as sb\n",
        "from sklearn import datasets\n",
        "from sklearn.preprocessing import StandardScaler\n",
        "from sklearn import metrics\n",
        "from sklearn.model_selection import train_test_split"
      ],
      "execution_count": 0,
      "outputs": []
    },
    {
      "cell_type": "code",
      "metadata": {
        "id": "jZt7qAYrA4HO",
        "colab_type": "code",
        "colab": {}
      },
      "source": [
        "data = datasets.load_iris()\n",
        "df = pd.DataFrame(data.data,columns=['sepalL','sepalW','petalL','petalW'])\n",
        "df['type'] = data.target\n",
        "# - Iris-Setosa\n",
        "\n",
        "# - Iris-Versicolour\n",
        "# - Iris-Virginica"
      ],
      "execution_count": 0,
      "outputs": []
    },
    {
      "cell_type": "code",
      "metadata": {
        "id": "Ygih9kTjNAX-",
        "colab_type": "code",
        "colab": {}
      },
      "source": [
        "#sb.heatmap(df.corr(),annot=True)"
      ],
      "execution_count": 0,
      "outputs": []
    },
    {
      "cell_type": "code",
      "metadata": {
        "id": "j_G18dJgQ3xD",
        "colab_type": "code",
        "colab": {}
      },
      "source": [
        "X = np.array(df.drop(['type'],axis=1))\n",
        "Y = np.array(df['type'])"
      ],
      "execution_count": 0,
      "outputs": []
    },
    {
      "cell_type": "code",
      "metadata": {
        "id": "r_1PmXIsR5oq",
        "colab_type": "code",
        "colab": {}
      },
      "source": [
        "X_train, X_test, y_train, y_test = train_test_split(X,Y,test_size=0.30)"
      ],
      "execution_count": 0,
      "outputs": []
    },
    {
      "cell_type": "code",
      "metadata": {
        "id": "PUxBXI6JexmO",
        "colab_type": "code",
        "colab": {}
      },
      "source": [
        "scaler = StandardScaler()\n",
        "scaler.fit(X_train)\n",
        "X_train = scaler.transform(X_train)"
      ],
      "execution_count": 0,
      "outputs": []
    },
    {
      "cell_type": "code",
      "metadata": {
        "id": "P6fM4MunSK0f",
        "colab_type": "code",
        "colab": {}
      },
      "source": [
        "ones = np.ones((X_train.shape[0],1),dtype=int)\n",
        "X_train = np.concatenate((ones,X_train),axis=1)"
      ],
      "execution_count": 0,
      "outputs": []
    },
    {
      "cell_type": "code",
      "metadata": {
        "id": "gDINBZvTyf_j",
        "colab_type": "code",
        "colab": {}
      },
      "source": [
        "def gradient_decent(x,y,theta,alpha,epochs,cats):\n",
        "  m = x.shape[0]\n",
        "  n = x.shape[1]\n",
        "  err = [[],[],[]]\n",
        "  for i in range(len(cats)):\n",
        "    newY = np.array(y,copy=True)\n",
        "    newY[y == i] = 1\n",
        "    newY[y != i] = 0\n",
        "    for j in range(epochs):\n",
        "      theta[i] = gradient_step(x,newY,theta[i],alpha,m)\n",
        "      err[i].append(cost_function(x,newY,theta[i]))\n",
        "  return err,theta"
      ],
      "execution_count": 0,
      "outputs": []
    },
    {
      "cell_type": "code",
      "metadata": {
        "id": "sojB4lKqz_ZR",
        "colab_type": "code",
        "colab": {}
      },
      "source": [
        "def gradient_step(x,y,w,lr,m):\n",
        "  h = sigmoid(np.dot(x,w))\n",
        "  pred = h - y\n",
        "  deriv = np.sum((pred[:,None]*x),axis=0)\n",
        "  w -= (lr*(1/m))*deriv\n",
        "  return w"
      ],
      "execution_count": 0,
      "outputs": []
    },
    {
      "cell_type": "code",
      "metadata": {
        "id": "eDykTR0Z09gu",
        "colab_type": "code",
        "colab": {}
      },
      "source": [
        "def sigmoid(z):\n",
        "  return 1/(1+np.exp(-z))"
      ],
      "execution_count": 0,
      "outputs": []
    },
    {
      "cell_type": "code",
      "metadata": {
        "id": "5YePGe3b1J6x",
        "colab_type": "code",
        "colab": {}
      },
      "source": [
        "def cost_function(x,y,w):\n",
        "  h = sigmoid(np.dot(x,w))\n",
        "  h = np.sum( (y*np.log(h)) + ((1-y)*np.log(1-h)) )\n",
        "  return -(h / len(y))"
      ],
      "execution_count": 0,
      "outputs": []
    },
    {
      "cell_type": "code",
      "metadata": {
        "id": "ofa62BMW26Go",
        "colab_type": "code",
        "colab": {}
      },
      "source": [
        "# hyper  parameters\n",
        "theta = np.zeros((3,X_train.shape[1]))\n",
        "lr = 0.1\n",
        "iters = 1000\n",
        "err , theta = gradient_decent(X_train,y_train,theta,lr,iters,[0,1,2])"
      ],
      "execution_count": 0,
      "outputs": []
    },
    {
      "cell_type": "code",
      "metadata": {
        "id": "Kn4ARhkI3SwR",
        "colab_type": "code",
        "outputId": "673be723-7bf5-4d85-9e3c-033d583d0c34",
        "colab": {
          "base_uri": "https://localhost:8080/",
          "height": 828
        }
      },
      "source": [
        "print(theta)\n",
        "for i in err:\n",
        "  plt.grid()\n",
        "  plt.plot(i)\n",
        "  plt.show()"
      ],
      "execution_count": 103,
      "outputs": [
        {
          "output_type": "stream",
          "text": [
            "[[-2.45297459 -1.0849767   1.60149808 -2.03401637 -1.79983825]\n",
            " [-0.89385656  0.1733346  -1.25567218  0.62081815 -0.95145301]\n",
            " [-2.88360631  0.17554962 -0.34242325  2.38015325  3.24270195]]\n"
          ],
          "name": "stdout"
        },
        {
          "output_type": "display_data",
          "data": {
            "image/png": "[encoded data removed]",
            "text/plain": [
              "<Figure size 432x288 with 1 Axes>"
            ]
          },
          "metadata": {
            "tags": []
          }
        },
        {
          "output_type": "display_data",
          "data": {
            "image/png": "[encoded data removed]",
            "text/plain": [
              "<Figure size 432x288 with 1 Axes>"
            ]
          },
          "metadata": {
            "tags": []
          }
        },
        {
          "output_type": "display_data",
          "data": {
            "image/png": "[encoded data removed]",
            "text/plain": [
              "<Figure size 432x288 with 1 Axes>"
            ]
          },
          "metadata": {
            "tags": []
          }
        }
      ]
    },
    {
      "cell_type": "code",
      "metadata": {
        "id": "9cLqCu5S-gWw",
        "colab_type": "code",
        "colab": {}
      },
      "source": [
        "def bulk_predict(x,w):\n",
        "  predBit = np.zeros(len(x),dtype=int)\n",
        "  predPr = np.zeros((len(x),len(w)))\n",
        "  for i in range(len(x)):\n",
        "    bit = x[i]\n",
        "    bit = scaler.transform([bit])\n",
        "    bit = np.insert(bit,0,1)\n",
        "    for j in range(len(theta)):\n",
        "      p = sigmoid(np.sum(bit*w[j]))\n",
        "      predPr[i][j] = round(p, 2)*100\n",
        "    predBit[i] = predPr[i].argmax()\n",
        "  return predBit,predPr"
      ],
      "execution_count": 0,
      "outputs": []
    },
    {
      "cell_type": "code",
      "metadata": {
        "id": "9QBPla4A3aE9",
        "colab_type": "code",
        "outputId": "9237f8e9-7718-48e7-f671-3a1c25b77d1a",
        "colab": {
          "base_uri": "https://localhost:8080/",
          "height": 72
        }
      },
      "source": [
        "predBit,predPr  = bulk_predict(X_test,theta)\n",
        "# - Iris-Setosa\n",
        "# - Iris-Versicolour\n",
        "# - Iris-Virginica\n",
        "predBit"
      ],
      "execution_count": 105,
      "outputs": [
        {
          "output_type": "execute_result",
          "data": {
            "text/plain": [
              "array([2, 2, 2, 1, 2, 0, 2, 0, 0, 1, 1, 1, 0, 0, 0, 0, 1, 0, 2, 2, 2, 0,\n",
              "       0, 2, 2, 2, 2, 0, 0, 2, 1, 1, 0, 0, 0, 1, 0, 0, 1, 1, 1, 0, 0, 2,\n",
              "       2])"
            ]
          },
          "metadata": {
            "tags": []
          },
          "execution_count": 105
        }
      ]
    },
    {
      "cell_type": "code",
      "metadata": {
        "id": "fBODU-JlBKG3",
        "colab_type": "code",
        "outputId": "400ff57e-06ea-441c-b086-6a618e2bf2d2",
        "colab": {
          "base_uri": "https://localhost:8080/",
          "height": 35
        }
      },
      "source": [
        "metrics.accuracy_score(predBit,y_test) *100"
      ],
      "execution_count": 106,
      "outputs": [
        {
          "output_type": "execute_result",
          "data": {
            "text/plain": [
              "91.11111111111111"
            ]
          },
          "metadata": {
            "tags": []
          },
          "execution_count": 106
        }
      ]
    },
    {
      "cell_type": "code",
      "metadata": {
        "id": "aAxs5Gqq9KwK",
        "colab_type": "code",
        "colab": {
          "base_uri": "https://localhost:8080/",
          "height": 283
        },
        "outputId": "428652c1-0ec1-47d0-a789-17dd1bdbeba3"
      },
      "source": [
        "sb.heatmap(metrics.confusion_matrix(y_test,predBit),annot=True)\n",
        "plt.ylabel('true')\n",
        "plt.xlabel('predicted')\n",
        "plt.show()"
      ],
      "execution_count": 110,
      "outputs": [
        {
          "output_type": "display_data",
          "data": {
            "image/png": "[encoded data removed]",
            "text/plain": [
              "<Figure size 432x288 with 2 Axes>"
            ]
          },
          "metadata": {
            "tags": []
          }
        }
      ]
    },
    {
      "cell_type": "code",
      "metadata": {
        "id": "6_1Ur0xP94i3",
        "colab_type": "code",
        "colab": {}
      },
      "source": [
        ""
      ],
      "execution_count": 0,
      "outputs": []
    }
  ]
}